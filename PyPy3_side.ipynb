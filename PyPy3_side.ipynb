{
 "cells": [
  {
   "cell_type": "markdown",
   "id": "4b163d5c",
   "metadata": {},
   "source": [
    "Вводная часть и некоторые общие положения об интерпретаторах питона, информация по установке и настройке, отличиях CPython и PyPy3 изложены в ридми [репозитория](https://github.com/Asklepiad/PyPy_vs_CPython.git) . В ноутбуках будут показаны тесты на конкретных примерах, демонстрирующие отличия в логике и производительности двух интерпретаторов."
   ]
  },
  {
   "cell_type": "markdown",
   "id": "e3a45bd6",
   "metadata": {},
   "source": [
    "# 1. Скорость базового питона"
   ]
  },
  {
   "cell_type": "markdown",
   "id": "5f2397a4",
   "metadata": {},
   "source": [
    "## 1.1 Теоретическая посылка и базовый пример"
   ]
  },
  {
   "cell_type": "markdown",
   "id": "bb4029e7",
   "metadata": {},
   "source": [
    "Считается, что PyPy значительно ускоряет базовый питон. Проверим, даст ли он индульгиенцию на использование двойных циклов. Сравним ресурсоемкий примтивный код на питоне и в PyPy."
   ]
  },
  {
   "cell_type": "code",
   "execution_count": 7,
   "id": "aaaf7001",
   "metadata": {},
   "outputs": [
    {
     "name": "stdout",
     "output_type": "stream",
     "text": [
      "CPU times: user 1.53 s, sys: 0 ns, total: 1.53 s\n",
      "Wall time: 1.53 s\n"
     ]
    }
   ],
   "source": [
    "%%time\n",
    "bad_naming = range(1000)\n",
    "for i in bad_naming:\n",
    "    for j in bad_naming:\n",
    "        for k in bad_naming:\n",
    "            i + j * k"
   ]
  },
  {
   "cell_type": "markdown",
   "id": "8be25940",
   "metadata": {},
   "source": [
    "Тройной цикл исполнялся `1.53 секунды`. Это в 52.9 раза быстрее, чем на CPython."
   ]
  },
  {
   "cell_type": "markdown",
   "id": "66698edc",
   "metadata": {},
   "source": [
    "## 1.2 Осмысленный пример"
   ]
  },
  {
   "cell_type": "markdown",
   "id": "c99882e8",
   "metadata": {},
   "source": [
    "Попробуем что-нибудь более осмысленное, чем тройной цикл. Например, двойной цикл. Я взял свой код алгоритма Нидлмана-Вунша из первого семестра (опустим сейчас кривость и неоптимальность и посмотрим, как интепретаторы прожуют сие). Для сравнения я взял довольно длинные последовательности: по 10000 нуклеотидов каждый."
   ]
  },
  {
   "cell_type": "code",
   "execution_count": 8,
   "id": "57e56435",
   "metadata": {},
   "outputs": [],
   "source": [
    "import random"
   ]
  },
  {
   "cell_type": "code",
   "execution_count": 9,
   "id": "330974f6",
   "metadata": {},
   "outputs": [
    {
     "name": "stdout",
     "output_type": "stream",
     "text": [
      "CPU times: user 2.91 s, sys: 179 ms, total: 3.09 s\n",
      "Wall time: 3.09 s\n"
     ]
    }
   ],
   "source": [
    "%%time\n",
    "x, y = ''.join(random.choices(\"AGCT\", k=10000)), ''.join(random.choices(\"AGCT\", k=10000))\n",
    "n = len(x)\n",
    "m = len(y)\n",
    "mat = [[0 for j in range(m+1)] for i in range(n+1)]\n",
    "for j in range(m+1):\n",
    "    mat[0][j] = -j\n",
    "for i in range(n+1):\n",
    "    mat[i][0] = -i\n",
    "\n",
    "for i in range(1, n+1):\n",
    "    for j in range(1, m+1):\n",
    "        if x[i-1] == y[j-1]:\n",
    "            diag = mat[i-1][j-1]+1\n",
    "        else:\n",
    "            diag = mat[i-1][j-1]-1\n",
    "        mat[i][j] = max(diag, mat[i-1][j]-1, mat[i][j-1]-1)\n",
    "a1=[]\n",
    "a2=[]        \n",
    "\n",
    "while n>0 or m>0: \n",
    "    vert = mat[n-1][m]-1\n",
    "    hor = mat[n][m-1]-1  \n",
    "    if x[n-1] == y[m-1]:\n",
    "        diag1 = mat[n-1][m-1]+1\n",
    "    else:\n",
    "        diag1 = mat[n-1][m-1]-1\n",
    "    if mat[n][m] == vert:\n",
    "        a1.append(x[n-1])\n",
    "        a2.append(\"_\")\n",
    "        n -= 1\n",
    "    elif mat[n][m] == hor:\n",
    "        a1.append(\"_\")\n",
    "        a2.append(y[m-1])\n",
    "        m -= 1\n",
    "    elif mat[n][m] == diag1:\n",
    "        a1.append(x[n-1])\n",
    "        a2.append(y[m-1])\n",
    "        n -= 1\n",
    "        m -= 1"
   ]
  },
  {
   "cell_type": "markdown",
   "id": "6aea636d",
   "metadata": {},
   "source": [
    "Процесс отработал за `3.09 секунды`. Это в 15.7 раз быстрее быстрее запуска на CPython."
   ]
  },
  {
   "cell_type": "markdown",
   "id": "5d528c22",
   "metadata": {},
   "source": [
    "# 2. \"Стандартные биоинформатические\" библиотеки"
   ]
  },
  {
   "cell_type": "markdown",
   "id": "145a37c5",
   "metadata": {},
   "source": [
    "## 2.1 Теоретическая посылка и загрузка пакетов"
   ]
  },
  {
   "cell_type": "markdown",
   "id": "3de8def4",
   "metadata": {},
   "source": [
    "Считается, что со многими библиотеками (особенно написанными на Си для повышения производительности) PyPy работает крайне неоптимально. Это приводит к проигрышу в скорости по сравнению со стандартным интерпретатором питона. Проверим."
   ]
  },
  {
   "cell_type": "code",
   "execution_count": 1,
   "id": "8b1b4418",
   "metadata": {},
   "outputs": [],
   "source": [
    "import os\n",
    "import sys\n",
    "import re\n",
    "import numpy as np\n",
    "import pandas as pd\n",
    "import matplotlib.pyplot as plt\n",
    "import seaborn as sns\n",
    "from tqdm import tqdm\n",
    "import warnings\n",
    "warnings.filterwarnings('ignore')"
   ]
  },
  {
   "cell_type": "markdown",
   "id": "d52ccad3",
   "metadata": {},
   "source": [
    "## 2.2 Осмысленный пример"
   ]
  },
  {
   "cell_type": "markdown",
   "id": "2f4aa318",
   "metadata": {},
   "source": [
    "Здесь используется один из скрпитов [семестрового проекта](https://github.com/Asklepiad/BI_project_2022.git). Этот скрипт осуществляет некоторые пертурбации с табличными данными."
   ]
  },
  {
   "cell_type": "code",
   "execution_count": 10,
   "id": "7ce89685",
   "metadata": {},
   "outputs": [
    {
     "name": "stdout",
     "output_type": "stream",
     "text": [
      "Number of the paralogs = 2719\n"
     ]
    },
    {
     "name": "stderr",
     "output_type": "stream",
     "text": [
      "100%|███████████████████████████████████████████████████████████████████████████████████████████████| 12356/12356 [00:00<00:00, 38649.37it/s]\n",
      "100%|█████████████████████████████████████████████████████████████████████████████████████████████████| 12356/12356 [00:18<00:00, 654.99it/s]\n"
     ]
    },
    {
     "name": "stdout",
     "output_type": "stream",
     "text": [
      "CPU times: user 24.5 s, sys: 608 ms, total: 25.1 s\n",
      "Wall time: 25.1 s\n"
     ]
    }
   ],
   "source": [
    "%%time\n",
    "source_path = \"/home/asklepiad/bioinf/start_codons/BI_project_2022\"\n",
    "folder_name = \"V_campbellii\"\n",
    "\n",
    "### Orto rows with singletons, but without paralog-containing rows\n",
    "\n",
    "# Uploading and modificating orto rows tables\n",
    "orto_rows = pd.read_csv(f\"{source_path}/{folder_name}/data/{folder_name}.proteinortho.tsv\", sep=\"\\t\") # Uploading dataframe with orto rows\n",
    "orto_rows = orto_rows.rename(columns = {\"# Species\": \"Species\"})\n",
    "orto_rows[\"ortologus_row\"] = orto_rows.index + 1 # Creating ortorows numbers\n",
    "\n",
    "# Uploading first csv-table and creating a new column in it\n",
    "orto_rows_list = orto_rows.index\n",
    "df1 = pd.read_csv(f\"{source_path}/{folder_name}/data/First_table.csv\")\n",
    "\n",
    "#Filling orto_row column (sounds like an oxymoron)\n",
    "assemblies = orto_rows.columns[3:-1]\n",
    "row_assigner = pd.melt(orto_rows, id_vars=[\"ortologus_row\"], value_vars=assemblies)\n",
    "row_assigner = row_assigner.query(\"value != '*'\")\n",
    "row_assigner[\"value\"] = row_assigner[\"value\"].str[:14]\n",
    "row_assigner\n",
    "row_assigner.drop([\"variable\"], axis=\"columns\", inplace=True)\n",
    "row_assigner.columns = [\"ortologus_row\", \"id\"]\n",
    "df1 = df1.merge(row_assigner, on=\"id\")\n",
    "\n",
    "# Number of the paralogs\n",
    "print(\"Number of the paralogs =\", sum(orto_rows.query(\"Genes > Species\").Genes) - sum(orto_rows.query(\"Genes > Species\").Species))\n",
    "\n",
    "# Creating a subset without pararows\n",
    "pararows_numbers = orto_rows.query(\"Genes > Species\").ortologus_row\n",
    "df1 = df1.query(\"ortologus_row not in @pararows_numbers\").query(\"ortologus_row != 0\")\n",
    "\n",
    "# Compiling data about start-codons of ortologus rows\n",
    "start_codon_per_row = df1.groupby(\"ortologus_row\", as_index=False).agg({\"start_codone\": \".\".join})\n",
    "start_codon_per_row[\"start_codone\"]\n",
    "orr_start_list = []\n",
    "for number in tqdm(range(len(start_codon_per_row))):\n",
    "    orr_start_list.append(start_codon_per_row.iloc[number, 1].split(\".\"))\n",
    "start_codons = pd.DataFrame(\n",
    "    {\n",
    "        \"ortologus_row\": start_codon_per_row[\"ortologus_row\"],\n",
    "        \"start_codons\": pd.Series(orr_start_list),\n",
    "        \"ATG\": 0.0,\n",
    "        \"GTG\": 0.0,\n",
    "        \"TTG\": 0.0,\n",
    "    }\n",
    ")\n",
    "\n",
    "# Computing frequencies of exact start-codons\n",
    "start_codons.sort_values(\"ortologus_row\", inplace=True)\n",
    "for row in tqdm(range(len(start_codons))):\n",
    "    freqs = pd.Series(start_codons[\"start_codons\"][row]).value_counts() # If it will be need to visualize percents, use normalize=True in brackets\n",
    "    rowlength = len(start_codons[\"start_codons\"][row])\n",
    "    if \"ATG\" in freqs:\n",
    "        start_codons[\"ATG\"][row] = freqs[\"ATG\"]\n",
    "    else:\n",
    "        start_codons[\"ATG\"][row] = 0\n",
    "    if \"GTG\" in freqs:\n",
    "        start_codons[\"GTG\"][row] = freqs[\"GTG\"]\n",
    "    else:\n",
    "        start_codons[\"GTG\"][row] = 0\n",
    "    if \"TTG\" in freqs:\n",
    "        start_codons[\"TTG\"][row] = freqs[\"TTG\"]\n",
    "    else:\n",
    "        start_codons[\"TTG\"][row] = 0\n",
    "\n",
    "# Computing uniformity of start-codon per ortologus row\n",
    "start_codons[\"uniformity\"] = \"NA\"\n",
    "for row in range(len(start_codons)):\n",
    "    if len(set(start_codons.iloc[row, 1])) == 1:\n",
    "        start_codons.iloc[row, 5] = \"same\"\n",
    "    else:\n",
    "        start_codons.iloc[row, 5] = \"different\"\n",
    "\n",
    "# Constructing table withh all data about the ortologus rows (including pararows)\n",
    "start_codons2 = start_codons.merge(orto_rows, on=\"ortologus_row\", how=\"outer\")\n",
    "\n",
    "# Creating a table, combining data about gene and its start-codone\n",
    "strain_gene_row = start_codons2[[\"Species\", \"Genes\", \"ortologus_row\", \"uniformity\", \"ATG\", \"GTG\", \"TTG\"]]   # Other codons deleted\n",
    "summary_rows = df1.merge(strain_gene_row, on=\"ortologus_row\")\n",
    "\n",
    "# Assigning cog to orto_row\n",
    "row_cog = row_assigner.merge(df1[[\"id\", \"cog\"]], on=\"id\").groupby(\"ortologus_row\").agg({\"cog\": \"max\"})\n",
    "start_codons2 = start_codons2.merge(row_cog, on=\"ortologus_row\")\n",
    "\n",
    "# Adding organism_name to datasets\n",
    "summary_rows[\"organism\"] = folder_name\n",
    "start_codons2[\"organism\"] = folder_name\n",
    "\n",
    "uniq_cog = start_codons2[[\"ortologus_row\", \"ATG\", \"GTG\", \"TTG\", \"uniformity\", \"Species\", \"Genes\", \"cog\", \"organism\"]]"
   ]
  },
  {
   "cell_type": "markdown",
   "id": "377ff434",
   "metadata": {},
   "source": [
    "Время исполнения - `25.1 секунд`. В 2.24 раза дольше, чем на стандартном Cpython."
   ]
  },
  {
   "cell_type": "markdown",
   "id": "dcfb3e00",
   "metadata": {},
   "source": [
    "Проблема здесь в том, что на PyPy из-за особенностей реализации код ряда библиотек (в том числе написанных на C) исполняется дольше, чем при стандартном интерпретаторе."
   ]
  },
  {
   "cell_type": "markdown",
   "id": "22be69bb",
   "metadata": {},
   "source": [
    "# 3. Потомки встроенных типов"
   ]
  },
  {
   "cell_type": "markdown",
   "id": "8169f2bc",
   "metadata": {},
   "source": [
    "## 3.1 Теоретический блок и базовый пример."
   ]
  },
  {
   "cell_type": "markdown",
   "id": "c38adbed",
   "metadata": {},
   "source": [
    "В CPython и в PyPy по-разному реализовано поведение при добавлении атрибутов извне. CPython предпочитает ориентироваться запись атрибутов извне, а PyPy - на метод `__getitem__`.\n",
    "\n",
    "У меня нет мыслей, как это можно использовать. Пока ощущение только, что это нужно иметь в виду, дабы не попасться на различиях.\n",
    "\n",
    "Пример взят из [документации PyPy](https://doc.pypy.org/en/latest/cpython_differences.html#subclasses-of-built-in-types)."
   ]
  },
  {
   "cell_type": "code",
   "execution_count": 3,
   "id": "dcaf91da",
   "metadata": {},
   "outputs": [
    {
     "name": "stdout",
     "output_type": "stream",
     "text": [
      "PyPy way\n"
     ]
    }
   ],
   "source": [
    "class D(dict):\n",
    "    def __getitem__(self, key):\n",
    "        if key == 'print':\n",
    "            return print\n",
    "        return \"PyPy way\"\n",
    "\n",
    "class A(object):\n",
    "    pass\n",
    "\n",
    "a = A()\n",
    "a.__dict__ = D()\n",
    "a.foo = \"CPython way\"\n",
    "print(a.foo)"
   ]
  }
 ],
 "metadata": {
  "kernelspec": {
   "display_name": "PyPy3",
   "language": "python",
   "name": "pypy3"
  },
  "language_info": {
   "codemirror_mode": {
    "name": "ipython",
    "version": 3
   },
   "file_extension": ".py",
   "mimetype": "text/x-python",
   "name": "python",
   "nbconvert_exporter": "python",
   "pygments_lexer": "ipython3",
   "version": "3.9.16"
  }
 },
 "nbformat": 4,
 "nbformat_minor": 5
}
